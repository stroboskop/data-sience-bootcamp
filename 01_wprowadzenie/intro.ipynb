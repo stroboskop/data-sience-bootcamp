{
  "nbformat": 4,
  "nbformat_minor": 0,
  "metadata": {
    "colab": {
      "name": "intro.ipynb",
      "provenance": [],
      "collapsed_sections": [],
      "authorship_tag": "ABX9TyOV8FyZ5dN8Ks6TXQfyvCD+",
      "include_colab_link": true
    },
    "kernelspec": {
      "name": "python3",
      "display_name": "Python 3"
    },
    "language_info": {
      "name": "python"
    }
  },
  "cells": [
    {
      "cell_type": "markdown",
      "metadata": {
        "id": "view-in-github",
        "colab_type": "text"
      },
      "source": [
        "<a href=\"https://colab.research.google.com/github/stroboskop/data-sience-bootcamp/blob/main/01_wprowadzenie/intro.ipynb\" target=\"_parent\"><img src=\"https://colab.research.google.com/assets/colab-badge.svg\" alt=\"Open In Colab\"/></a>"
      ]
    },
    {
      "cell_type": "code",
      "metadata": {
        "colab": {
          "base_uri": "https://localhost:8080/",
          "height": 35
        },
        "id": "O-hA3l3ISNnQ",
        "outputId": "3fa32183-2c9c-4d75-b5cf-0a606dbc39dc"
      },
      "source": [
        "import numpy as np\n",
        "\n",
        "np.__version__\n",
        "\n"
      ],
      "execution_count": 2,
      "outputs": [
        {
          "output_type": "execute_result",
          "data": {
            "application/vnd.google.colaboratory.intrinsic+json": {
              "type": "string"
            },
            "text/plain": [
              "'1.19.5'"
            ]
          },
          "metadata": {},
          "execution_count": 2
        }
      ]
    },
    {
      "cell_type": "markdown",
      "metadata": {
        "id": "bTVZgPVH7j_N"
      },
      "source": [
        "# Tablice 2d i 3d"
      ]
    },
    {
      "cell_type": "code",
      "metadata": {
        "colab": {
          "base_uri": "https://localhost:8080/"
        },
        "id": "jwJN-zf8i3um",
        "outputId": "102b48e4-026b-48d8-d162-0069e21755c6"
      },
      "source": [
        "x = np.array([1,3])\n",
        "print(x)\n",
        "\n",
        "x.ndim\n",
        "x.shape\n",
        "x.size\n",
        "\n",
        "x = np.array([1.3, 2.3, 1.4])\n",
        "\n",
        "\n",
        "x = np.array([[1,2], [-3,1]])\n",
        "print(x.shape)\n",
        "\n",
        "x = np.array([[1,2,4] , [4,2,1]])\n",
        "print(x.shape)\n",
        "\n",
        "//"
      ],
      "execution_count": null,
      "outputs": [
        {
          "output_type": "stream",
          "name": "stdout",
          "text": [
            "[1 3]\n",
            "(2, 2)\n",
            "(2, 3)\n"
          ]
        }
      ]
    },
    {
      "cell_type": "code",
      "metadata": {
        "colab": {
          "base_uri": "https://localhost:8080/"
        },
        "id": "2TO-xIoHmCff",
        "outputId": "ffa119d1-d4f6-436e-d34c-b11c716409da"
      },
      "source": [
        "#3d arrays\n",
        "x = np.array(\n",
        "    [[[4, 3, 1],\n",
        "      [3, 1, 2]],\n",
        "     \n",
        "      [[4, 1, 3],\n",
        "       [4, 2, 1]]]\n",
        ")\n",
        "\n",
        "print(x.ndim)\n",
        "print(x.shape)"
      ],
      "execution_count": null,
      "outputs": [
        {
          "output_type": "stream",
          "name": "stdout",
          "text": [
            "3\n",
            "(2, 2, 3)\n"
          ]
        }
      ]
    },
    {
      "cell_type": "markdown",
      "metadata": {
        "id": "jRbarENSnwic"
      },
      "source": [
        "Typy danych"
      ]
    },
    {
      "cell_type": "code",
      "metadata": {
        "id": "WOxI9XH4nyz-"
      },
      "source": [
        "#ustalanie datypu tahblicy\n",
        "A = np.array([1, 2, 3], dtype='float')\n",
        "\n"
      ],
      "execution_count": null,
      "outputs": []
    },
    {
      "cell_type": "markdown",
      "metadata": {
        "id": "bbN8k8cVS2NH"
      },
      "source": [
        "# Tworzenie tablic\n"
      ]
    },
    {
      "cell_type": "code",
      "metadata": {
        "colab": {
          "base_uri": "https://localhost:8080/"
        },
        "id": "3tBG8Vop7riG",
        "outputId": "fab36b41-50ac-492e-d3b7-bb83a581a8f3"
      },
      "source": [
        "np.zeros(shape=(4, 10), dtype='int')\n",
        "\n",
        "#tworzy tablice 4x10 wypełnioną 0, domyslnie we float\n",
        "np.zeros(shape=(4, 10))\n",
        "\n",
        "#tworzy tablice 4x10 wypełnioną 1\n",
        "np.ones(shape=(4, 10))\n",
        "\n",
        "#tworzy tablice 3x3 wypełnioną 4\n",
        "np.full(shape=(3, 3), fill_value=4)\n",
        "\n",
        "#to jak range(10)\n",
        "np.arange(10)\n",
        "\n",
        "#to jak range(10)\n",
        "np.arange(start= 10, stop=100, step=10)\n",
        "\n",
        "#to jak range(10)\n",
        "np.arange(start= 100, stop=10, step=-10)\n",
        "\n",
        "#popobne do arrane num   mówi ile będzie elementów, będę równo rozłożone\n",
        "np.linspace(start=0, stop=1, num=10)\n",
        "\n",
        "A = np.arange(15)\n",
        "A\n",
        "\n",
        "A = A.reshape((3, 5))\n",
        "A"
      ],
      "execution_count": null,
      "outputs": [
        {
          "output_type": "execute_result",
          "data": {
            "text/plain": [
              "array([ 0,  1,  2,  3,  4,  5,  6,  7,  8,  9, 10, 11, 12, 13, 14])"
            ]
          },
          "metadata": {},
          "execution_count": 47
        }
      ]
    },
    {
      "cell_type": "code",
      "metadata": {
        "id": "Dxe5P5L6JJYU"
      },
      "source": [
        ""
      ],
      "execution_count": null,
      "outputs": []
    },
    {
      "cell_type": "markdown",
      "metadata": {
        "id": "G-82VeoDJSLa"
      },
      "source": [
        "# Podstawowe operacje na tablicach"
      ]
    },
    {
      "cell_type": "code",
      "metadata": {
        "colab": {
          "base_uri": "https://localhost:8080/"
        },
        "id": "BkVBbuwQJYgi",
        "outputId": "920dfe11-a204-4aa1-c458-1d9789a85e7b"
      },
      "source": [
        "A = np.array([3, 1, 4, 2])\n",
        "B = np.array([3, -1, 3, 2])\n",
        "\n",
        "print(A)\n",
        "print(B)\n",
        "\n",
        "\n",
        "#są to metody równorzędne\n",
        "A + B\n",
        "np.add(A, B)\n",
        "\n",
        "A - B\n",
        "np.subtract(A, B)\n",
        "\n",
        "A * B\n",
        "np.multiply(A, B)\n",
        "\n",
        "A / B\n",
        "np.divide(A, B)\n",
        "\n",
        "A + 3\n",
        "\n",
        "#mnożenie macierzowe np.dot\n",
        "x = np.array([[1, 3], [-2, 0]])\n",
        "y = np.array([[6, 0], [-1, 2]])\n",
        "\n",
        "np.dot(x, y)\n",
        "\n",
        "x @ y"
      ],
      "execution_count": 4,
      "outputs": [
        {
          "output_type": "stream",
          "name": "stdout",
          "text": [
            "[3 1 4 2]\n",
            "[ 3 -1  3  2]\n"
          ]
        },
        {
          "output_type": "execute_result",
          "data": {
            "text/plain": [
              "array([[  3,   6],\n",
              "       [-12,   0]])"
            ]
          },
          "metadata": {},
          "execution_count": 4
        }
      ]
    },
    {
      "cell_type": "markdown",
      "metadata": {
        "id": "E1dI37yo67ic"
      },
      "source": [
        "# Generowanie liczb pseudolosowych"
      ]
    },
    {
      "cell_type": "code",
      "metadata": {
        "colab": {
          "base_uri": "https://localhost:8080/"
        },
        "id": "YhXYij6-7gNj",
        "outputId": "223474de-007b-4f42-def4-67ec764c30c4"
      },
      "source": [
        "#określenie seed dla generatora\n",
        "np.random.seed(0)\n",
        "\n",
        "#zwraca nam tablicę 10 x 4 losowych liczb (przez to, że określono seed nie są one naprawdę losowe)\n",
        "#z przedziału normalnego\n",
        "np.random.randn(10, 4)\n",
        "\n",
        "#rozkład jednostajny na przedziale\n",
        "np.random.rand()\n",
        "\n",
        "#zwraca tablicę 10 elementową\n",
        "np.random.rand(10)\n",
        "\n",
        "#zwraca liczę całkowitą mniejszą od 10 i większa od zera\n",
        "np.random.randint(10)\n",
        "\n",
        "np.random.randint(low=10, high=101, size=10)\n",
        "\n",
        "#zwraca losowy przekazany element\n",
        "np.random.choice([4, 2, 1, 4])\n",
        "\n",
        "np.random.choice(['python', 'java', 'sql', 'c++'])\n",
        "\n",
        "data = np.arange(10)\n",
        "data\n",
        "\n",
        "#przetasowany obiekt\n",
        "np.random.shuffle(data)\n",
        "data"
      ],
      "execution_count": 21,
      "outputs": [
        {
          "output_type": "execute_result",
          "data": {
            "text/plain": [
              "array([3, 9, 7, 8, 6, 4, 2, 1, 0, 5])"
            ]
          },
          "metadata": {},
          "execution_count": 21
        }
      ]
    },
    {
      "cell_type": "markdown",
      "metadata": {
        "id": "1Hreg6vP71qr"
      },
      "source": [
        "# Podstawowe funkcje w bibliotece numpy"
      ]
    },
    {
      "cell_type": "code",
      "metadata": {
        "colab": {
          "base_uri": "https://localhost:8080/"
        },
        "id": "bErKdQ0K-wWK",
        "outputId": "00635226-2688-4e2c-b64c-776ee08d8e20"
      },
      "source": [
        "#exponent\n",
        "np.exp(1)\n",
        "\n",
        "#pierwiastek\n",
        "np.sqrt(9)\n",
        "\n",
        "#bada czy wartość logiczną false i true, \n",
        "#jeśli który kolwiek obiekt zwraca false to ta też zwróci\n",
        "np.all([2, 3, 1, 0, 1])\n",
        "\n",
        "#zwraca odwrotnie do all\n",
        "np.any([1, 2, 1])\n",
        "\n",
        "A = np.random.rand(5)\n",
        "print(A)\n",
        "\n",
        "#zwraca największa numer elementu tablicy o największej wartość\n",
        "np.argmax(A)\n",
        "\n",
        "A[np.argmax(A)]\n",
        "\n",
        "#zwraca największa numer elementu tablicy o najmniejszej wartość\n",
        "np.argmin(A)\n",
        "\n",
        "#sortuje elementy w tablicy, zwraca tablicę z numerami elementów\n",
        "np.argsort(A)\n",
        "\n",
        "#zwraca faktyczną maksymalną wartość\n",
        "np.max(A)\n",
        "\n",
        "#zwraca faktyczną minimalną wartość\n",
        "np.min(A)\n",
        "\n",
        "#zwraca średnią wartość\n",
        "np.mean(A)\n",
        "\n",
        "#mediana\n",
        "np.median(A)\n",
        "\n",
        "#odchylenie standardowe\n",
        "np.std(A)"
      ],
      "execution_count": 31,
      "outputs": [
        {
          "output_type": "stream",
          "name": "stdout",
          "text": [
            "[0.66741038 0.13179786 0.7163272  0.28940609 0.18319136]\n"
          ]
        },
        {
          "output_type": "execute_result",
          "data": {
            "text/plain": [
              "0.7163272041185655"
            ]
          },
          "metadata": {},
          "execution_count": 31
        }
      ]
    },
    {
      "cell_type": "markdown",
      "metadata": {
        "id": "K_D7TUdZHtfL"
      },
      "source": [
        "# Iteracja po tablicach, zmiana rozmiaru oraz maski logiczne"
      ]
    },
    {
      "cell_type": "code",
      "metadata": {
        "colab": {
          "base_uri": "https://localhost:8080/"
        },
        "id": "9u2ZJrI2H4r8",
        "outputId": "4f4323a3-a01e-4e0f-8008-356b7bd1a853"
      },
      "source": [
        "#iteracja po każdym elemencie tablicy\n",
        "A = np.arange(20)\n",
        "\n",
        "A = A.reshape(5,4)\n",
        "A\n",
        "\n",
        "#wypłaszcza dane\n",
        "A.ravel\n",
        "\n",
        "#transponowanie\n",
        "A.T\n",
        "\n",
        "A = np.arange(start=-10, stop=10, step=0.5)\n",
        "A = A.reshape(10, -1)\n",
        "A\n",
        "\n",
        "#zwraca maskę logiczną, gdzie wystepują wartości większe od 0\n",
        "A > 0\n",
        "\n",
        "#zwroci tablicę która posiada jedynie wartości większe od 0\n",
        "A[A > 0]\n",
        "\n",
        "#dla kilku warunków nie działa A[A > 0 and A < 5], należy:\n",
        "A[np.bitwise_and(A > - 5, A < 5)]\n"
      ],
      "execution_count": 50,
      "outputs": [
        {
          "output_type": "execute_result",
          "data": {
            "text/plain": [
              "array([-4.5, -4. , -3.5, -3. , -2.5, -2. , -1.5, -1. , -0.5,  0. ,  0.5,\n",
              "        1. ,  1.5,  2. ,  2.5,  3. ,  3.5,  4. ,  4.5])"
            ]
          },
          "metadata": {},
          "execution_count": 50
        }
      ]
    }
  ]
}