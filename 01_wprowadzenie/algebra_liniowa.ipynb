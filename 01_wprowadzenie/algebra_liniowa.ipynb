{
  "nbformat": 4,
  "nbformat_minor": 0,
  "metadata": {
    "colab": {
      "name": "algebra_liniowa.ipynb",
      "provenance": [],
      "collapsed_sections": [],
      "authorship_tag": "ABX9TyMGXwfw3DPs4BaYbhqYHCAA",
      "include_colab_link": true
    },
    "kernelspec": {
      "name": "python3",
      "display_name": "Python 3"
    },
    "language_info": {
      "name": "python"
    }
  },
  "cells": [
    {
      "cell_type": "markdown",
      "metadata": {
        "id": "view-in-github",
        "colab_type": "text"
      },
      "source": [
        "<a href=\"https://colab.research.google.com/github/stroboskop/data-sience-bootcamp/blob/main/01_wprowadzenie/algebra_liniowa.ipynb\" target=\"_parent\"><img src=\"https://colab.research.google.com/assets/colab-badge.svg\" alt=\"Open In Colab\"/></a>"
      ]
    },
    {
      "cell_type": "markdown",
      "metadata": {
        "id": "kGBxtkpcYejb"
      },
      "source": [
        "# Norma wektora i odległość punktów"
      ]
    },
    {
      "cell_type": "code",
      "metadata": {
        "id": "Yznc1sxoZyt4"
      },
      "source": [
        "import numpy as np"
      ],
      "execution_count": 1,
      "outputs": []
    },
    {
      "cell_type": "code",
      "metadata": {
        "colab": {
          "base_uri": "https://localhost:8080/"
        },
        "id": "rSMaD9tFYkja",
        "outputId": "24c84398-4608-4b8f-f623-55fee3c6c776"
      },
      "source": [
        "#tworzymy wektor\n",
        "v1 = np.array([-1,4])\n",
        "\n",
        "#obliczami normę(długość) wektora v1 w przestrzeni R2\n",
        "np.linalg.norm(v1)\n",
        "\n",
        "v2 = np.array([-10, 10, 13])\n",
        "\n",
        "np.linalg.norm(v2)\n",
        "\n",
        "#obliczanie dwóch punktów na płaszczyźnie\n",
        "p = np.array([3,0])\n",
        "q = np.array([0,4])\n",
        "\n",
        "np.linalg.norm(p - q)\n",
        "\n",
        "#obliczanie odległości dwoch punktów w przestrzeni R^n\n",
        "p = np.array([3, 0, 1])\n",
        "q = np.array([0, 4, 2])\n",
        "np.linalg.norm(p - q)\n",
        "\n",
        "#mnożenie macierzowe\n",
        "x = np.array([[5, 3], [3, 9]])\n",
        "y = np.array([[1], [-1]])\n",
        "\n",
        "z = np.dot(x, y)\n",
        "z\n",
        "\n",
        "\n",
        "#wyznacznik, macierz jednostkowa, odwrotna i transponowana\n",
        "A =  np.array([[2, 4], [-1, 3]])\n",
        "\n",
        "#wyznacznik\n",
        "np.linalg.det(A)\n",
        "\n",
        "#ślad macierzy (suma elementów na przekątnej)\n",
        "np.trace(A)\n",
        "\n",
        "#macierz jednostkowa (taka gdzie współczynniki po przekątnej równają się 1)\n",
        "np.eye(5, dtype='int')\n",
        "\n",
        "#macierz odwrócona\n",
        "B = np.linalg.inv(A)\n",
        "B\n",
        "\n",
        "#macierz transponowana\n",
        "C = np.transpose(A)\n",
        "A.T\n",
        "\n",
        "\n",
        "#rozwiązywanie układów równań\n",
        "A = np.array([[2, 4], [1, -1]])\n",
        "print(A)\n",
        "\n",
        "B = np.array([[10], [-1]])\n",
        "\n",
        "A_inv = np.linalg.inv(A)\n",
        "x = np.dot(A_inv, B)\n",
        "x"
      ],
      "execution_count": 19,
      "outputs": [
        {
          "output_type": "stream",
          "name": "stdout",
          "text": [
            "[[ 2  4]\n",
            " [ 1 -1]]\n"
          ]
        },
        {
          "output_type": "execute_result",
          "data": {
            "text/plain": [
              "array([[1.],\n",
              "       [2.]])"
            ]
          },
          "metadata": {},
          "execution_count": 19
        }
      ]
    }
  ]
}